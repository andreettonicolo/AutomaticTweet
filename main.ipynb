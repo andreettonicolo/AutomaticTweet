{
 "cells": [
  {
   "cell_type": "code",
   "execution_count": 1,
   "id": "ac1ccae2-4203-4776-a07e-dd71ef6ed7f3",
   "metadata": {},
   "outputs": [],
   "source": [
    "import openai\n",
    "import re\n",
    "import tweepy as tweepy\n",
    "import time as t\n"
   ]
  },
  {
   "cell_type": "code",
   "execution_count": 2,
   "id": "dfea31b2-5505-473f-b5c4-83cd1eac5042",
   "metadata": {},
   "outputs": [],
   "source": [
    "openai.api_key = \"KEY\""
   ]
  },
  {
   "cell_type": "code",
   "execution_count": 3,
   "id": "f3f3f6f0-a3d4-4057-bb94-cc83417bc20c",
   "metadata": {},
   "outputs": [
    {
     "name": "stdout",
     "output_type": "stream",
     "text": [
      "Inserisci il testo dell'articolo:  Il governo confonde la Meta di Zuckerberg con un’azienda di Reggio Emilia 13 GENNAIO 2023 - 09:07 di Redazione  In una risposta scritta al deputato Pd Fossi il ministero del Lavoro parla di “unità produttive” in Emilia-Romagna  In una risposta a un’interrogazione parlamentare del deputato del Partito Democratico Emiliano Fossi il governo Meloni ha confuso la Meta di Mark Zuckerberg con un’azienda che ha sede a Reggio Emilia. Lo ha fatto sapere lo stesso deputato su Facebook. Fossi chiedeva infatti lumi sulla sede milanese del social network blu: «In una lettera ai lavoratori venne annunciato a inizio novembre il taglio del 13 per cento del personale, quantificato in oltre 11mila dipendenti. Nonostante la maggior parte dei dipendenti di Meta si trovino negli Stati Uniti, esistono sedi nazionali anche in Italia. Da quanto emerge dai media la sede italiana di Milano sarà interessata da 22 licenziamenti a fronte di 127 dipendenti. E non è ancora chiaro cosa succederà ai dipendenti al termine della procedura di licenziamento collettivo».   L’errore del ministero del Lavoro Nella risposta scritta del ministero del Lavoro diretto da Marina Calderone invece si parla di una “unità produttiva” in via Oberdan a Reggio Emilia. E si annuncia anche un «verbale d’accordo» in cui «l’intervento della cassa integrazione straordinaria è richiesto per un numero massimo di 41 lavoratori». Mentre l’azienda «si impegna a ricollocare su unità produttive site in Reggio Emilia i dipendenti che non si renderanno disponibili ad aderire al piano di esuberi. Allo stato», prosegue il documento, «non sono state invece riferite analoghe iniziative rispetto alla sede di Milano, né l’Ispettorato del lavoro di Milano ha comunicato sussistere precedenti ispettivi per quanto riguarda la società Meta». Anche se «il Ministero delle Imprese e del Made in Italy ha fatto presente che non è stato attivato un tavolo ministeriale che coinvolge la sede della multinazionale Meta, dichiarandosi disponibile a valutare iniziative finalizzate alla salvaguardia dell’attività aziendale e alla tutela del perimetro occupazionale». «Con la…meta questo governo ha dei problemi: non ne raggiunge mai una», ha scritto Fossi su Facebook. «Anzi, raggiunge sempre quella sbagliata. Come con la benzina: Meloni voleva ridurne il costo, non mi pare che sia andata così. Hanno fatto confusione, anche stavolta».\n"
     ]
    }
   ],
   "source": [
    "\n",
    "\n",
    "# chiedo all'utente di inserire il testo dell'articolo\n",
    "text = input(\"Inserisci il testo dell'articolo: \")\n",
    "\n"
   ]
  },
  {
   "cell_type": "code",
   "execution_count": 4,
   "id": "7870e7e1-eae1-419e-a6e7-d1506a731ab7",
   "metadata": {},
   "outputs": [
    {
     "name": "stdout",
     "output_type": "stream",
     "text": [
      "\n",
      "\n",
      "In una risposta a un’interrogazione parlamentare il gov confonde la Meta di Zuckerberg con un’azienda di Reggio Emilia. Lo ha fatto sapere lo stesso deputato su Facebook.\n"
     ]
    }
   ],
   "source": [
    "checkSum = True\n",
    "while checkSum:\n",
    "\n",
    "# utilizzo il modello di openAI per ottenere il riassunto del testo\n",
    "    response = openai.Completion.create(\n",
    "        engine=\"text-davinci-002\",\n",
    "        prompt=f\"Riassumi questo testo per un tweet twitter: {text}\",\n",
    "        max_tokens=100,\n",
    "        temperature=0.5,\n",
    "    )\n",
    "\n",
    "    # estraggo il riassunto dalla risposta di openAI\n",
    "    summary = response[\"choices\"][0][\"text\"]\n",
    "    \n",
    "    #openai.Completion.reset()\n",
    "\n",
    "# rimuovo eventuali caratteri di escape dal riassunto\n",
    "    summary = re.sub(r\"\\\\n\", \"\", summary)\n",
    "\n",
    "# stampo il riassunto\n",
    "    if(len(summary)<=200):\n",
    "        checkSum = False\n",
    "        #response.reset()\n",
    "        print(summary)"
   ]
  },
  {
   "cell_type": "code",
   "execution_count": 5,
   "id": "d51356f5-f1b4-42e3-8048-d11f3d9acbd6",
   "metadata": {},
   "outputs": [],
   "source": [
    "def create_hashtag(text):\n",
    "    # utilizzo il modello di openAI per ottenere la domanda e le risposte\n",
    "    response = openai.Completion.create(\n",
    "        engine=\"text-davinci-002\",\n",
    "        prompt=f\"riassumi con 3 hashtag corti questo: {summary}\",\n",
    "        max_tokens=30,\n",
    "        temperature=0.5,\n",
    "    )\n",
    "\n",
    "    # estraggo la domanda e le risposte dalla risposta di openAI\n",
    "    hashtag = response[\"choices\"][0][\"text\"].strip(),\n",
    "    \n",
    "\n",
    "\n",
    "    return str(hashtag)"
   ]
  },
  {
   "cell_type": "code",
   "execution_count": 6,
   "id": "ad91651e-1024-42bb-bbca-338d4db08b4a",
   "metadata": {},
   "outputs": [
    {
     "name": "stdout",
     "output_type": "stream",
     "text": [
      "('#zuckerberg #metadireggioemilia #interrogazioneparlamentare',)\n"
     ]
    }
   ],
   "source": [
    "    hashtag=create_hashtag(summary)\n",
    "    print(hashtag)\n"
   ]
  },
  {
   "cell_type": "code",
   "execution_count": 7,
   "id": "4730a6eb-ecae-45ba-a550-9666cdf2bfc7",
   "metadata": {},
   "outputs": [],
   "source": [
    "def create_question(summary):\n",
    "    checkSum = True\n",
    "    while checkSum:\n",
    "        #sleep(timedelta(seconds=5))\n",
    "        # utilizzo il modello di openAI per ottenere la domanda e le risposte\n",
    "        response = openai.Completion.create(\n",
    "            engine=\"text-davinci-002\",\n",
    "            prompt=f\"Crea una domanda MOLTO breve  per chiedere agli ull'utente cosa pensa di: {summary}\",\n",
    "            temperature=0.5,\n",
    "            max_tokens=250,\n",
    "        )\n",
    "        \n",
    "        # estraggo la domanda e le risposte dalla risposta di openAI\n",
    "        question = response[\"choices\"][0][\"text\"].strip()\n",
    "        \n",
    "        if(len(question)<=25):\n",
    "            checkSum = False\n",
    "  \n",
    "        return question\n",
    "\n"
   ]
  },
  {
   "cell_type": "code",
   "execution_count": 8,
   "id": "f9e9b68f-b148-494e-ad5f-e53949a82a97",
   "metadata": {},
   "outputs": [
    {
     "name": "stdout",
     "output_type": "stream",
     "text": [
      "Che ne pensi di questo errore?\n"
     ]
    }
   ],
   "source": [
    "question=create_question(summary)\n",
    "print(question)"
   ]
  },
  {
   "cell_type": "code",
   "execution_count": null,
   "id": "bc3a2476-4369-4f18-9c4b-770eceac8938",
   "metadata": {},
   "outputs": [],
   "source": []
  },
  {
   "cell_type": "code",
   "execution_count": 9,
   "id": "ae1b8543-4d30-4251-8063-33cf6ad1d64b",
   "metadata": {},
   "outputs": [
    {
     "name": "stdout",
     "output_type": "stream",
     "text": [
      "Il tweet sarà questo: \n",
      "\n",
      "In una risposta a un’interrogazione parlamentare il gov confonde la Meta di Zuckerberg con un’azienda di Reggio Emilia. Lo ha fatto sapere lo stesso deputato su Facebook.\n",
      "('#zuckerberg #metadireggioemilia #interrogazioneparlamentare',)\n",
      "Che ne pensi di questo errore?\n",
      "\n",
      "\n",
      "\n",
      " vuoi pubblicarlo?\n"
     ]
    }
   ],
   "source": [
    "print(\"Il tweet sarà questo: \"+summary+\"\\n\"+hashtag+\"\\n\"+question+\"\\n\\n\\n\\n vuoi pubblicarlo?\")"
   ]
  },
  {
   "cell_type": "code",
   "execution_count": null,
   "id": "d7043914-9604-4171-913c-d3c1710d0cd6",
   "metadata": {},
   "outputs": [],
   "source": []
  },
  {
   "cell_type": "code",
   "execution_count": null,
   "id": "a55abf23-c866-4880-a744-2deba5da1513",
   "metadata": {},
   "outputs": [],
   "source": []
  },
  {
   "cell_type": "code",
   "execution_count": null,
   "id": "a17df7ca-f236-42d3-a788-e7e79bfdd712",
   "metadata": {},
   "outputs": [],
   "source": [
    "def create_answers(question):\n",
    "    \n",
    "    response = openai.Completion.create(\n",
    "        engine=\"text-davinci-002\",\n",
    "        prompt=(f\"dammi 3 risposte brevi(una positiva, una negativa, una nulla) per un sondaggio tweeter a questa domanda: {question}, in italiano  \"),\n",
    "        max_tokens=50,\n",
    "        \n",
    "    )\n",
    "    \n",
    "    answers = response[\"choices\"][0][\"text\"].strip()\n",
    "    \n",
    "    return answers"
   ]
  },
  {
   "cell_type": "code",
   "execution_count": null,
   "id": "547b78d4-64f4-446d-8b22-48653f47deba",
   "metadata": {},
   "outputs": [],
   "source": [
    "print(create_answers(question))"
   ]
  },
  {
   "cell_type": "code",
   "execution_count": null,
   "id": "eebc4f01-9378-4f71-87a2-ca9033bc05e2",
   "metadata": {},
   "outputs": [],
   "source": [
    "check = True\n",
    "while check:\n",
    "    hashtag=create_hashtag(summary)\n",
    "    question=create_question(summary)\n",
    "    numero_caratteri = len(summary+str(hashtag)+question)\n",
    "    print(\"lunghezza riassunto:\"+str(len(summary))+\" lunghezza hashtag: \"+str(len(hashtag))+\" lunghezza domanda: \"+str(len(question))+\" linghezza totale: \"+str(numero_caratteri))\n",
    "    if(len(summary+str(hashtag)+question)<=280):\n",
    "        check = False\n",
    "        print(\"Va bene\")\n",
    "        print(\"la domanda e': \"+question)\n"
   ]
  },
  {
   "cell_type": "code",
   "execution_count": null,
   "id": "a69967b2-ab02-4103-8794-c12a76ce96e9",
   "metadata": {},
   "outputs": [],
   "source": [
    "#richiama la funzione per creare 3 risposte, continua fin che tutti a 3 sono > di 25 caratteri\n",
    "\n",
    "check = True\n",
    "while check:\n",
    "    answers=create_answers(question)\n",
    "    if(len(answers[0]) <= 25 and len(answers[1])<=25 and len(answers[2])<=25):\n",
    "            print(\"\\n\\nVa bene!\")\n",
    "            print(str(answers[0])+\" \"+str(answers[1]) +\" \"+str(answers[2]))\n",
    "            check = False\n",
    "    else:\n",
    "        print(\"non va bene, le lunghezze: \"+str(len(answers[0]))+\" \"+str(len(answers[1]))+\" \"+str(len(answers[2]))+\" \"+str(answers[0])+\" \"+str(answers[1]) +\" \"+str(answers[2]))\n",
    "\n",
    "\n",
    "\n"
   ]
  },
  {
   "cell_type": "code",
   "execution_count": null,
   "id": "1e7bd28d-3661-49d3-88df-77c5bf782fbf",
   "metadata": {},
   "outputs": [],
   "source": [
    "print(\"Il tweet sarà questo: \"+summary+\"\\n\"+hashtag+\"\\n\"+question+\"\\n\"+answers[0]+\"\\n\"+answers[1]+\"\\n\"+answers[2]+\"\\n\\n\\n vuoi pubblicarlo?\")"
   ]
  },
  {
   "cell_type": "code",
   "execution_count": null,
   "id": "d9631e18-cf69-45e6-8444-a5a64d0a01a3",
   "metadata": {},
   "outputs": [],
   "source": [
    "\n",
    "ACCESS_KEY = 'TWITTER'\n",
    "ACCESS_SECRET = 'TWITTER'\n",
    "CONSUMER_KEY = 'TWITTER'\n",
    "CONSUMER_SECRET = 'TWITTER'\n",
    "\n",
    "\n",
    "\n",
    "# autentico l'applicazione su Twitter\n",
    "\n",
    "api = tweepy.Client(bearer_token='%TWITTER',\n",
    "                    access_token=ACCESS_KEY,\n",
    "                    access_token_secret=ACCESS_SECRET,\n",
    "                    consumer_key=CONSUMER_KEY,\n",
    "                    consumer_secret=CONSUMER_SECRET)\n",
    "\n",
    "api.create_tweet(text=summary+'\\n'+hashtag+'\\n'+question,\n",
    "                 poll_options=answers,\n",
    "                 poll_duration_minutes = 10080,\n",
    "                 )\n",
    "\n",
    "\n",
    "\n",
    "print(\"Pubblicato!\")\n"
   ]
  },
  {
   "cell_type": "code",
   "execution_count": null,
   "id": "f325e09f-5d4b-406d-a58d-bfc03c7f9770",
   "metadata": {},
   "outputs": [],
   "source": []
  },
  {
   "cell_type": "code",
   "execution_count": null,
   "id": "7cab921c-c0c4-42b1-8a2d-fe6e3f658150",
   "metadata": {},
   "outputs": [],
   "source": []
  }
 ],
 "metadata": {
  "kernelspec": {
   "display_name": "Python 3 (ipykernel)",
   "language": "python",
   "name": "python3"
  },
  "language_info": {
   "codemirror_mode": {
    "name": "ipython",
    "version": 3
   },
   "file_extension": ".py",
   "mimetype": "text/x-python",
   "name": "python",
   "nbconvert_exporter": "python",
   "pygments_lexer": "ipython3",
   "version": "3.11.0"
  }
 },
 "nbformat": 4,
 "nbformat_minor": 5
}
