{
 "cells": [
  {
   "cell_type": "code",
   "execution_count": null,
   "id": "c29ee242-f123-43be-aae8-37aa33e7d40a",
   "metadata": {},
   "outputs": [],
   "source": [
    "def create_question_and_answers(text):\n",
    "    # utilizzo il modello di openAI per ottenere la domanda e le risposte\n",
    "    response = openai.Completion.create(\n",
    "        engine=\"text-davinci-002\",\n",
    "        prompt=f\"Crea una domanda a cui associare 3 possibili risposte relative a questo testo: {text}\",\n",
    "        max_tokens=280,\n",
    "        temperature=0.5,\n",
    "    )\n",
    "\n",
    "    # estraggo la domanda e le risposte dalla risposta di openAI\n",
    "    question = response[\"choices\"][0][\"text\"].strip()\n",
    "    answers = response[\"choices\"][0][\"text\"].split(\"\\n\")[1:]\n",
    "\n",
    "    # rimuovo eventuali caratteri di escape dalla domanda e dalle risposte\n",
    "    question = re.sub(r\"\\\\n\", \"\", question)\n",
    "    answers = [re.sub(r\"\\\\n\", \"\", answer) for answer in answers]\n",
    "\n",
    "    return question, answers\n",
    "\n"
   ]
  },
  {
   "cell_type": "code",
   "execution_count": null,
   "id": "50b18193-e2ec-494d-9e08-b45370aa069e",
   "metadata": {},
   "outputs": [],
   "source": [
    "# test della funzione\n",
    "text = \"L'intelligenza artificiale è una tecnologia che sta cambiando il mondo.\"\n",
    "question, answers = create_question_and_answers(text)\n",
    "print(f\"Domanda: {question}\")\n",
    "print(\"Risposte:\")\n",
    "for i, answer in enumerate(answers):\n",
    "    print(f\"{i + 1}. {answer}\")"
   ]
  }
 ],
 "metadata": {
  "kernelspec": {
   "display_name": "Python 3 (ipykernel)",
   "language": "python",
   "name": "python3"
  },
  "language_info": {
   "codemirror_mode": {
    "name": "ipython",
    "version": 3
   },
   "file_extension": ".py",
   "mimetype": "text/x-python",
   "name": "python",
   "nbconvert_exporter": "python",
   "pygments_lexer": "ipython3",
   "version": "3.11.0"
  }
 },
 "nbformat": 4,
 "nbformat_minor": 5
}
